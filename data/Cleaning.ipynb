{
 "cells": [
  {
   "cell_type": "code",
   "execution_count": 1,
   "id": "c6329925",
   "metadata": {},
   "outputs": [],
   "source": [
    "import pandas as pd\n",
    "import numpy as np"
   ]
  },
  {
   "cell_type": "code",
   "execution_count": null,
   "id": "091fe56e",
   "metadata": {},
   "outputs": [],
   "source": []
  },
  {
   "cell_type": "code",
   "execution_count": 2,
   "id": "b712bbda",
   "metadata": {},
   "outputs": [
    {
     "name": "stdout",
     "output_type": "stream",
     "text": [
      "0 AIRLINE ORIGIN FLIGHT NO.  ORIGIN AIRPORT A/C TYPE STA (WIB)  \\\n",
      "0     LNI                NaN          EXRON      NaN  00:00:00   \n",
      "1     BTK                NaN          EXRON      NaN  00:00:00   \n",
      "2     WON                NaN          EXRON      NaN  00:00:00   \n",
      "3     SJV                NaN          EXRON      NaN  00:00:00   \n",
      "4     LNI             LNI970            KNO     B739  06:55:00   \n",
      "\n",
      "0 DEPT FLIGHT NO.  DEPT AIRPORT A/C TYPE STD (WIB) PLANNING PARKING  \\\n",
      "0          LNI3229          PDG     B739  06:50:00              AE6   \n",
      "1          BTK6863          CGK     A320  07:00:00              AE3   \n",
      "2          WON1270          NTX     AT72  08:05:00              AD8   \n",
      "3           SJV857          CGK     A320  08:15:00              AE5   \n",
      "4           LNI970          SUB     B739  07:40:00              AE4   \n",
      "\n",
      "0 PLANNING GATE  \n",
      "0            A9  \n",
      "1            A6  \n",
      "2            A9  \n",
      "3            A6  \n",
      "4            A6  \n"
     ]
    }
   ],
   "source": [
    "import pandas as pd\n",
    "\n",
    "# Baca file Excel tanpa header karena header sebenarnya ada di baris ke-9 (index ke-8)\n",
    "df = pd.read_excel(\"RENCANA PENERBANGAN BIB 04 APRIL 2025.xlsx\", header=None)\n",
    "\n",
    "# Hapus baris 0 sampai 8\n",
    "df = df.drop(index=range(0, 8))\n",
    "\n",
    "# Reset index biar rapi setelah drop baris\n",
    "df = df.reset_index(drop=True)\n",
    "\n",
    "# Hapus 2 kolom paling kiri\n",
    "df = df.iloc[:, 2:]\n",
    "\n",
    "# Jadikan baris pertama sekarang sebagai header\n",
    "df.columns = df.iloc[0]\n",
    "df = df[1:]  # Buang baris yang dijadikan header\n",
    "\n",
    "# Reset index lagi\n",
    "df = df.reset_index(drop=True)\n",
    "\n",
    "# Tampilkan hasil akhir\n",
    "print(df.head())"
   ]
  },
  {
   "cell_type": "code",
   "execution_count": null,
   "id": "c6658114",
   "metadata": {},
   "outputs": [
    {
     "name": "stdout",
     "output_type": "stream",
     "text": [
      "🔍 Memproses: RENCANA PENERBANGAN BIB 17 APRIL 2025.xlsx\n",
      "🔍 Memproses: RENCANA PENERBANGAN BIB 18 APRIL 2025.xlsx\n",
      "🔍 Memproses: RENCANA PENERBANGAN BIB 22 APRIL 2025.xlsx\n",
      "🔍 Memproses: RENCANA PENERBANGAN BIB 06 APRIL 2025.xlsx\n",
      "🔍 Memproses: RENCANA PENERBANGAN BIB 09 APRIL 2025.xlsx\n",
      "🔍 Memproses: RENCANA PENERBANGAN BIB 10 APRIL 2025.xlsx\n",
      "🔍 Memproses: RENCANA PENERBANGAN BIB 23 APRIL 2025.xlsx\n",
      "🔍 Memproses: RENCANA PENERBANGAN BIB 11 APRIL 2025.xlsx\n",
      "🔍 Memproses: RENCANA PENERBANGAN BIB 16 APRIL 2025.xlsx\n",
      "🔍 Memproses: RENCANA PENERBANGAN BIB 19 APRIL 2025.xlsx\n",
      "🔍 Memproses: RENCANA PENERBANGAN BIB 24 APRIL 2025.xlsx\n",
      "🔍 Memproses: RENCANA PENERBANGAN BIB 05 APRIL 2025.xlsx\n",
      "🔍 Memproses: RENCANA PENERBANGAN BIB 21 APRIL 2025.xlsx\n",
      "🔍 Memproses: RENCANA PENERBANGAN BIB 13 APRIL 2025.xlsx\n",
      "🔍 Memproses: RENCANA PENERBANGAN BIB 14 APRIL 2025.xlsx\n",
      "🔍 Memproses: RENCANA PENERBANGAN BIB 15 APRIL 2025.xlsx\n",
      "🔍 Memproses: RENCANA PENERBANGAN BIB 04 APRIL 2025.xlsx\n",
      "🔍 Memproses: RENCANA PENERBANGAN BIB 20 APRIL 2025.xlsx\n",
      "🔍 Memproses: RENCANA PENERBANGAN BIB 12 APRIL 2025.xlsx\n",
      "✅ Semua file selesai dibersihkan dan digabungkan ke dalam file: /Users/nrdian/python.project/dash_dashboard/data/output_bersih/combined_cleaned_data.csv\n"
     ]
    }
   ],
   "source": [
    "import pandas as pd\n",
    "import os\n",
    "import re\n",
    "\n",
    "# Folder tempat file Excel kamu\n",
    "folder = \"/Users/nrdian/python.project/dash_dashboard/data\"\n",
    "output_folder = \"/Users/nrdian/python.project/dash_dashboard/data/output_bersih/\"\n",
    "os.makedirs(output_folder, exist_ok=True)\n",
    "\n",
    "def extract_date_from_df(df):\n",
    "    \"\"\"Scan seluruh DataFrame untuk mencari nilai yang mirip tanggal\"\"\"\n",
    "    for col in df.columns:\n",
    "        for val in df[col]:\n",
    "            try:\n",
    "                date = pd.to_datetime(val)\n",
    "                if date.year == 2025:  # pastikan bukan sembarang datetime\n",
    "                    return date.date()\n",
    "            except:\n",
    "                continue\n",
    "    return None\n",
    "\n",
    "# List untuk menyimpan DataFrame yang sudah dibersihkan\n",
    "df_list = []\n",
    "\n",
    "# Loop untuk membersihkan setiap file di folder\n",
    "for filename in os.listdir(folder):\n",
    "    if filename.endswith(\".xlsx\"):\n",
    "        filepath = os.path.join(folder, filename)\n",
    "        print(f\"🔍 Memproses: {filename}\")\n",
    "\n",
    "        # Load Excel tanpa header\n",
    "        df_raw = pd.read_excel(filepath, header=None)\n",
    "\n",
    "        # Ambil tanggal dari df_raw (baris awal atau mana saja)\n",
    "        flight_date = extract_date_from_df(df_raw)\n",
    "\n",
    "        # Proses cleaning\n",
    "        df = df_raw.drop(index=range(0, 8)).reset_index(drop=True)\n",
    "        df = df.iloc[:, 2:].reset_index(drop=True)\n",
    "        df.columns = df.iloc[0]\n",
    "        df = df[1:].reset_index(drop=True)\n",
    "\n",
    "        # Tambahkan kolom date_flight\n",
    "        df[\"date_flight\"] = flight_date\n",
    "\n",
    "        # Tambahkan df ke dalam list\n",
    "        df_list.append(df)\n",
    "\n",
    "# Gabungkan semua DataFrame dalam list menjadi satu\n",
    "final_df = pd.concat(df_list, ignore_index=True)\n",
    "\n",
    "# Simpan ke file CSV\n",
    "output_csv_path = os.path.join(output_folder, \"combined_cleaned_data.csv\")\n",
    "final_df.to_csv(output_csv_path, index=False)\n",
    "\n",
    "print(f\"✅ Semua file selesai dibersihkan dan digabungkan ke dalam file: {output_csv_path}\")"
   ]
  }
 ],
 "metadata": {
  "kernelspec": {
   "display_name": "Python 3",
   "language": "python",
   "name": "python3"
  },
  "language_info": {
   "codemirror_mode": {
    "name": "ipython",
    "version": 3
   },
   "file_extension": ".py",
   "mimetype": "text/x-python",
   "name": "python",
   "nbconvert_exporter": "python",
   "pygments_lexer": "ipython3",
   "version": "3.13.0"
  }
 },
 "nbformat": 4,
 "nbformat_minor": 5
}
